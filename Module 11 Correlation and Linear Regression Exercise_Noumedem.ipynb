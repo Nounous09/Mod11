{
 "cells": [
  {
   "cell_type": "markdown",
   "metadata": {},
   "source": [
    "## Module 13 Exercise - Correlation and Linear Regression"
   ]
  },
  {
   "cell_type": "markdown",
   "metadata": {},
   "source": [
    "### 1. Complete the code below to import the four libraries that we've primarily covered in the class. "
   ]
  },
  {
   "cell_type": "code",
   "execution_count": null,
   "metadata": {},
   "outputs": [],
   "source": [
    "import pandas as pd\n",
    "import numpy as np\n",
    "import scipy.stats as stats\n",
    "import statsmodels.formula.api as sm"
   ]
  },
  {
   "cell_type": "markdown",
   "metadata": {},
   "source": [
    "### 2. Import the \"babies.csv\" file and name it df. \n",
    "\n",
    "<b>BACKGROUND INFO</b>\n",
    "\n",
    "    The Child Health and Development Studies considered all pregnancies between 1960 and 1967 among women in the Kaiser Foundation Health Plan in the San Francisco East Bay area. The goal is to model the weight of the infants (bwt, in ounces) using variables including length of pregnancy in days (gestation), mother's age in years (age), mother's height in inches (height), whether the child was the first born (parity), mother's pregnancy weight in pounds (weight), and whether the mother was a smoker (smoke).\n",
    "\n",
    "<b>VARIABLES</b>\n",
    "\n",
    "    case - id number\n",
    "    bwt - birthweight, in ounces\n",
    "    gestation - length of gestation, in days\n",
    "    parity - binary indicator for a first pregnancy (0=first pregnancy)\n",
    "    age - mother's age in years\n",
    "    height - mother's height in inches\n",
    "    weight - mother's weight in pounds\n",
    "    smoke - binary indicator for whether the mother smokes"
   ]
  },
  {
   "cell_type": "code",
   "execution_count": null,
   "metadata": {},
   "outputs": [],
   "source": [
    "df = pd.read_csv(\"babies.csv\")"
   ]
  },
  {
   "cell_type": "markdown",
   "metadata": {},
   "source": [
    "### 3. Check the shape of the dataset. How many columns are there? How many rows?"
   ]
  },
  {
   "cell_type": "code",
   "execution_count": null,
   "metadata": {},
   "outputs": [],
   "source": [
    "print(df.shape)"
   ]
  },
  {
   "cell_type": "markdown",
   "metadata": {},
   "source": [
    "### 4. Check the first 10 rows and the last 10 rows of the dataset. Drop the column \"case\". "
   ]
  },
  {
   "cell_type": "code",
   "execution_count": null,
   "metadata": {},
   "outputs": [],
   "source": [
    "df.head(10)"
   ]
  },
  {
   "cell_type": "code",
   "execution_count": null,
   "metadata": {},
   "outputs": [],
   "source": [
    "df.head(10)"
   ]
  },
  {
   "cell_type": "code",
   "execution_count": null,
   "metadata": {},
   "outputs": [],
   "source": [
    "df.drop(columns = \"case\", inplace = True)"
   ]
  },
  {
   "cell_type": "markdown",
   "metadata": {},
   "source": [
    "### 5. Is there any missing data in the dataset? Use whichever code you like to check."
   ]
  },
  {
   "cell_type": "code",
   "execution_count": null,
   "metadata": {},
   "outputs": [],
   "source": [
    "df.isnull().sum()"
   ]
  },
  {
   "cell_type": "markdown",
   "metadata": {},
   "source": [
    "### 6. The amount of missing data is small considering the size of our dataset. Drop all rows in the dataset that have missing data. Create a copy of your dataset without missing data. "
   ]
  },
  {
   "cell_type": "code",
   "execution_count": null,
   "metadata": {},
   "outputs": [],
   "source": [
    "df.dropna()"
   ]
  },
  {
   "cell_type": "markdown",
   "metadata": {},
   "source": [
    "### 7. Are there any duplicate rows in the dataset? Check, if there are, drop them. "
   ]
  },
  {
   "cell_type": "code",
   "execution_count": null,
   "metadata": {},
   "outputs": [],
   "source": [
    "df.loc[df.duplicated()]"
   ]
  },
  {
   "cell_type": "code",
   "execution_count": null,
   "metadata": {},
   "outputs": [],
   "source": []
  },
  {
   "cell_type": "markdown",
   "metadata": {},
   "source": [
    "### 8. Check each of your numeric columns for outliers - pick one method and use it for all the columns. "
   ]
  },
  {
   "cell_type": "code",
   "execution_count": null,
   "metadata": {},
   "outputs": [],
   "source": [
    "dfz = df.copy()"
   ]
  },
  {
   "cell_type": "code",
   "execution_count": null,
   "metadata": {},
   "outputs": [],
   "source": [
    "dfz[\"zscore_bwt\"] = np.abs(stats.zscore(dfz[\"bwt\"]))\n",
    "dfz[\"zscore_gestation\"] =np.abs(stats.zscore(dfz[\"gestation\"]))\n",
    "dfz[\"zscore_age\"] =np.abs(stats.zscore(dfz[\"age\"]))\n",
    "dfz[\"zscore_height\"] = np.abs(stats.zscore(dfz[\"height\"]))\n",
    "dfz[\"zscore_weight\"] = np.abs(stats.zscore(dfz[\"weight\"]))\n",
    "\n",
    "z_outliers = dfz.loc[dfz[\"zscore_bwt\"] > 3].index\n",
    "z1_outliers = dfz.loc[dfz[\"zscore_gestation\"]>3].index\n",
    "z2_outliers = dfz.loc[dfz[\"zscore_age\"]>3].index\n",
    "z3_outliers = dfz.loc[dfz[\"zscore_height\"]>3].index\n",
    "z4_outliers = dfz.loc[dfz[\"zscore_weight\"]>3].index\n",
    "\n",
    "print(z_outliers)\n",
    "print(z1_outliers)\n",
    "print(z2_outliers)\n",
    "print(z3_outliers)\n",
    "print(z4_outliers)"
   ]
  },
  {
   "cell_type": "code",
   "execution_count": null,
   "metadata": {},
   "outputs": [],
   "source": [
    "dfz.loc[[632, 829, 912, 978, 1139]]"
   ]
  },
  {
   "cell_type": "code",
   "execution_count": null,
   "metadata": {},
   "outputs": [],
   "source": [
    "dfz = dfz.drop(z_outliers)\n",
    "dfz = dfz.drop(z1_outliers)\n",
    "dfz = dfz.drop(z2_outliers)\n",
    "dfz = dfz.drop(z3_outliers)\n",
    "dfz = dfz.drop(z4_outliers)\n",
    "\n",
    "print(dfz.shape)"
   ]
  },
  {
   "cell_type": "markdown",
   "metadata": {},
   "source": [
    "### 9. Print the descriptive statistics for each numeric column. What is the average age of the mothers? What is the average gestation period?"
   ]
  },
  {
   "cell_type": "code",
   "execution_count": null,
   "metadata": {},
   "outputs": [],
   "source": [
    "dfz.head()"
   ]
  },
  {
   "cell_type": "code",
   "execution_count": null,
   "metadata": {},
   "outputs": [],
   "source": [
    "# Measures of Central Tendency for Qualitative data\n",
    "\n",
    "print(\"The avg value of each qualitative data\")\n",
    "print(dfz[[\"bwt\"]].mean())  \n",
    "print(dfz[[\"gestation\"]].mean())\n",
    "print(dfz[[\"age\"]].mean())\n",
    "print(dfz[[\"height\"]].mean())\n",
    "print(dfz[[\"weight\"]].mean())\n",
    "print(\" \")\n",
    "\n",
    "print(\"The most reccurring value of in each numerical column\")\n",
    "print(dfz[[\"bwt\"]].mode())  \n",
    "print(dfz[[\"gestation\"]].mode())\n",
    "print(dfz[[\"age\"]].mode())\n",
    "print(dfz[[\"height\"]].mode())\n",
    "print(dfz[[\"weight\"]].mode())\n",
    "print(\" \")\n",
    "\n",
    "print(\"The median value is \")\n",
    "print(dfz[[\"bwt\"]].median())  \n",
    "print(dfz[[\"gestation\"]].median())\n",
    "print(dfz[[\"age\"]].median())\n",
    "print(dfz[[\"height\"]].median())\n",
    "print(dfz[[\"weight\"]].median())\n",
    "print(\" \")"
   ]
  },
  {
   "cell_type": "code",
   "execution_count": null,
   "metadata": {},
   "outputs": [],
   "source": [
    "dfz.describe()"
   ]
  },
  {
   "cell_type": "code",
   "execution_count": null,
   "metadata": {},
   "outputs": [],
   "source": [
    "# the middle value for weight of the mother is 125lbs\n",
    "# the rest of the variables find their medians at the avg of their 2 median values."
   ]
  },
  {
   "cell_type": "markdown",
   "metadata": {},
   "source": [
    "### 10. Let's model birthweight based on the characteristics of the mother. We want to distinguish between the numeric and categorical variables. Replace the values 0/1 in the parity and smoke column with meaningful labels (i.e. smokes, doesn't smoke)."
   ]
  },
  {
   "cell_type": "code",
   "execution_count": null,
   "metadata": {},
   "outputs": [],
   "source": [
    "# mother's characteristics here are: age, height, weight\n",
    "dfz[\"parity\"].replace([0, 1], [\"First Preg\", \"Not First Preg\"], inplace = True)\n",
    "dfz[\"smoke\"].replace([0.0, 1.0], [\"doesn't smoke\", \"smokes\"], inplace = True)\n",
    "dfz.head()"
   ]
  },
  {
   "cell_type": "markdown",
   "metadata": {},
   "source": [
    "### 11. Run a correlation matrix with your dataset. Which variables are correlated with birthweight? Describe the strength of the correlation between all the continuous independent variables and birthweight. "
   ]
  },
  {
   "cell_type": "code",
   "execution_count": null,
   "metadata": {},
   "outputs": [],
   "source": [
    "dfz.corr()"
   ]
  },
  {
   "cell_type": "code",
   "execution_count": null,
   "metadata": {},
   "outputs": [],
   "source": [
    "# As observed, there is no linear relationship between the birthweight of newborns \n",
    "# and all the continuous independent variables, except for a positive linear relationship\n",
    "# between the gestation period and the bwt\n",
    "\n",
    "## birthweight is correlated to:\n",
    "## gestation (0.4) moderate positive correlation\n",
    "## age (0.03) very weak positive correlation\n",
    "## height (0.2) weak positive correlation\n",
    "## weight (0.2) weak positive correlation"
   ]
  },
  {
   "cell_type": "markdown",
   "metadata": {},
   "source": [
    "### 12. Determine the relationship between birthweight and the categorical variables: parity and smoke. Use the groupby function to determine if there are any differences between birthweight and the different levels of the variables.  Does it seem like there is a relationship between these variables and birthweight?"
   ]
  },
  {
   "cell_type": "code",
   "execution_count": null,
   "metadata": {},
   "outputs": [],
   "source": [
    "dfz[[\"bwt\"]].groupby(dfz[\"parity\"]).mean()\n",
    "## mothers who are having their first child have higher bwt's on average"
   ]
  },
  {
   "cell_type": "code",
   "execution_count": null,
   "metadata": {},
   "outputs": [],
   "source": [
    "dfz[[\"bwt\"]].groupby(dfz[\"smoke\"]).mean()\n",
    "## non-smokers have higher bwt's on average"
   ]
  },
  {
   "cell_type": "code",
   "execution_count": null,
   "metadata": {},
   "outputs": [],
   "source": [
    "# it seems that the birth weight of newborns is high when the mother doesn't smoke\n",
    "# and there is no parity "
   ]
  },
  {
   "cell_type": "markdown",
   "metadata": {},
   "source": [
    "### 13. Let's construct your regression model. Firstly, which variables do you plan to include in your model, and why? In the space below, write your justification for why you are including each variable. "
   ]
  },
  {
   "cell_type": "markdown",
   "metadata": {},
   "source": [
    "The Child Health and Development Studies considered all pregnancies between 1960 and 1967 among women in the Kaiser Foundation Health Plan in the San Francisco East Bay area. The goal is to model the weight of the infants (bwt, in ounces) using variables including length of pregnancy in days (gestation), mother's age in years (age), mother's height in inches (height), whether the child was the first born (parity), mother's pregnancy weight in pounds (weight), and whether the mother was a smoker (smoke)."
   ]
  },
  {
   "cell_type": "markdown",
   "metadata": {},
   "source": [
    "The regression model will include the gestation period, the mother's characteristics (height, weight) and potential habits (smoke)"
   ]
  },
  {
   "cell_type": "markdown",
   "metadata": {},
   "source": [
    "genetics and habits are factors that can influence the variation in the weight of the infant"
   ]
  },
  {
   "cell_type": "markdown",
   "metadata": {},
   "source": [
    "### 14. Construct your regression model and print the summary. Write out your full interpretation of the regression results. If you are not happy with the results, tweak your model and run it again. "
   ]
  },
  {
   "cell_type": "code",
   "execution_count": null,
   "metadata": {},
   "outputs": [],
   "source": [
    "## create the regression model\n",
    "result = sm.ols('bwt ~ gestation + age + height + weight + C(parity) + C(smoke)', data = dfz).fit()\n",
    "\n",
    "## print the regression model summary\n",
    "result.summary()"
   ]
  },
  {
   "cell_type": "markdown",
   "metadata": {},
   "source": [
    "### 15. Create three scenarios (i.e. make up specific values) and predict the birthweight given these factors using the information on the model you were most pleased with. "
   ]
  },
  {
   "cell_type": "markdown",
   "metadata": {},
   "source": [
    "### Scenario 1\n",
    "\n",
    "    * 40 year old mom, non-smoker, first pregnancy, gestation period of 290 days, height 70 inches and 120 pounds. "
   ]
  },
  {
   "cell_type": "code",
   "execution_count": null,
   "metadata": {},
   "outputs": [],
   "source": [
    "## We can use the predict function (from statsmodel library) to predict the outcome given specific input\n",
    "## reference the model with your function to reference the appropriate coef's!\n",
    "\n",
    "# model_name.predict({'variable1_name':value1, 'variable2_name':value2, ...})\n",
    "\n",
    "result.predict({\n",
    "    'gestation': 290, \n",
    "    'parity': \"First Preg\", \n",
    "    'age': 30, \n",
    "    'height': 70,\n",
    "    'weight':120,\n",
    "    'smoke':\"doesn't smoke\"})"
   ]
  },
  {
   "cell_type": "markdown",
   "metadata": {},
   "source": [
    "### Scenario 2\n",
    "\n",
    "    * 25 year old mom, smoker, third pregnancy, gestation period of 240 days, height 66 inches and 200 pounds. "
   ]
  },
  {
   "cell_type": "code",
   "execution_count": null,
   "metadata": {},
   "outputs": [],
   "source": [
    "result.predict({\n",
    "    'gestation': 240, \n",
    "    'parity': \"Not First Preg\", \n",
    "    'age': 25, \n",
    "    'height': 66,\n",
    "    'weight':200,\n",
    "    'smoke':\"smokes\"})"
   ]
  },
  {
   "cell_type": "markdown",
   "metadata": {},
   "source": [
    "### Scenario 3\n",
    "\n",
    "    * 45 year old mom, smoker, first pregnancy, gestation period of 300 days, height 60 inches and 199 pounds. "
   ]
  },
  {
   "cell_type": "code",
   "execution_count": null,
   "metadata": {},
   "outputs": [],
   "source": [
    "result.predict({\n",
    "    'gestation': 300, \n",
    "    'parity': \"First Preg\", \n",
    "    'age': 45, \n",
    "    'height': 60,\n",
    "    'weight':199,\n",
    "    'smoke':\"smokes\"})"
   ]
  },
  {
   "cell_type": "markdown",
   "metadata": {},
   "source": [
    "## Great Job!! Submit your assignment via Canvas. "
   ]
  }
 ],
 "metadata": {
  "kernelspec": {
   "display_name": "Python 3 (ipykernel)",
   "language": "python",
   "name": "python3"
  },
  "language_info": {
   "codemirror_mode": {
    "name": "ipython",
    "version": 3
   },
   "file_extension": ".py",
   "mimetype": "text/x-python",
   "name": "python",
   "nbconvert_exporter": "python",
   "pygments_lexer": "ipython3",
   "version": "3.9.7"
  }
 },
 "nbformat": 4,
 "nbformat_minor": 4
}
